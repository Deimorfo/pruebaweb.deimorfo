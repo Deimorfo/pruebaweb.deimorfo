{
  "cells": [
    {
      "cell_type": "markdown",
      "metadata": {
        "id": "gH4g01YmemmY"
      },
      "source": [
        "# Sistemas de ecuaciones lineales \n",
        "> Fundamentos matemáticos para la formulación y solución de sistemas de ecuaciones lineales \n",
        "\n",
        "- toc: true \n",
        "- badges: true\n",
        "- comments: true\n",
        "- categories: [Sistemas de ecuaciones lineales, Fundamentos, Teoría]"
      ]
    },
    {
      "cell_type": "markdown",
      "metadata": {
        "id": "9Y7wIOgVemme"
      },
      "source": [
        "# **Definición de un sistema de ecuaciones lineales** \n",
        "\n",
        "<p align=\"justify\">Antes abordar la solución computacional de un sistema de ecuaciones lineales debemos definir estos sistemas en cuestión, así bien, la forma general de un sistema de este tipo es:</p>\n",
        "\n",
        "$$\n",
        "\\begin{gathered}\n",
        "a_{1,1} x_1+a_{1,2} x_2+\\ldots+a_{1, n} x_n=b_1 \\\\\n",
        "a_{2,1} x_1+a_{2,2} x_2+\\ldots+a_{2, n} x_n=b_2 \\\\\n",
        "\\vdots \\\\\n",
        "a_{n, 1} x_1+a_{n, 2} x_2+\\ldots+a_{n, n} x_n=b_n\n",
        "\\end{gathered}\n",
        "$$\n",
        "\n",
        "<p align=\"justify\">Donde $x_{i}$ representa las variables desconocidas que estamos intentando hallar, $a_{i}$ son los coeficientes que acompañan a dichas variables y $b_{i}$ son los coeficientes a los cuales están igualadas nuestras ecuaciones. También cabe resaltar que para la solución de sistemas hemos de tener el mismo numero de ecuaciones que de variables desconocidas, esto para evitar sobre especificar el sistema. Con base en lo anterior, podemos escribir nuestro sistema de ecuaciones de forma matricial</p>\n",
        "$$\n",
        "\\begin{gather*} \n",
        "\\mathbf{Ax = b}\n",
        "\\end{gather*}\n",
        "$$\n",
        "\n",
        "<p align=\"justify\">Donde $\\mathbf{A}$ es la matriz de coeficientes</p>\n",
        "\n",
        "$$\n",
        "\\mathbf{A}=\\left[\\begin{array}{cccc}\n",
        "a_{1,1} & a_{1,2} & \\cdots & a_{1, n} \\\\\n",
        "a_{2,1} & a_{2,2} & \\cdots & a_{2, n} \\\\\n",
        "\\vdots & \\vdots & & \\vdots \\\\\n",
        "a_{n, 1} & a_{n, 2} & \\cdots & a_{n, n}\n",
        "\\end{array}\\right]\n",
        "$$\n",
        "\n",
        "\n",
        "\n",
        "<p align=\"justify\">$\\mathbf{x}$ es el vector de variables desconocidas</p>\n",
        "\n",
        "$$\n",
        "\\mathbf{x}=\\left[\\begin{array}{c}\n",
        "x_1 \\\\\n",
        "x_2 \\\\\n",
        "\\vdots \\\\\n",
        "x_n\n",
        "\\end{array}\\right]\n",
        "$$\n",
        "\n",
        "<p align=\"justify\">Y $\\mathbf{b}$ es el vector de constantes a las cuales están igualadas las ecuaciones</p>\n",
        "\n",
        "$$\n",
        "\\mathbf{b}=\\left[\\begin{array}{c}\n",
        "b_1 \\\\\n",
        "b_2 \\\\\n",
        "\\vdots \\\\\n",
        "b_n\n",
        "\\end{array}\\right]\n",
        "$$"
      ]
    },
    {
      "cell_type": "markdown",
      "source": [
        "# **Solución matricial de un sistema**\n",
        "\n",
        "<p align=\"justify\">Mediante el tratamiento algebraico de la $(eq.1)$ podemos despejar $\\mathbf{x}$ </p>\n",
        "\n"
      ],
      "metadata": {
        "id": "juy8ckjYq8yY"
      }
    },
    {
      "cell_type": "markdown",
      "source": [
        "$$\n",
        "\\begin{equation}\n",
        "\\mathbf{x = A^{-1}b}\n",
        "\\end{equation}\n",
        "$$"
      ],
      "metadata": {
        "id": "ga40o_GQFtJI"
      }
    },
    {
      "cell_type": "markdown",
      "source": [
        "\n",
        "<p align=\"justify\">De forma que para hallar nuestro vector de variables desconociadas $\\mathbf{x}$, simplemente debemos encontrar la matriz inversa de nuestra matriz $\\mathbf{A}$ y multiplicarla por el vector $\\mathbf{b}$ </p>"
      ],
      "metadata": {
        "id": "1eEDNAsfFvFn"
      }
    },
    {
      "cell_type": "markdown",
      "source": [
        "## Ejemplo de solución"
      ],
      "metadata": {
        "id": "67SeykZK1EZd"
      }
    },
    {
      "cell_type": "markdown",
      "source": [
        "### Solución paso a paso\n",
        "\n",
        "<p align=\"justify\">Suponga usted que se desea resolver el siguiente sistema de ecuaciones lineales:</p>\n"
      ],
      "metadata": {
        "id": "XWwOIUWtuUuv"
      }
    },
    {
      "cell_type": "markdown",
      "source": [
        "$$\n",
        "\\begin{aligned}\n",
        "x_1+2 x_2-x_3 &=5 \\\\\n",
        "-x_1+3 x_2+x_3 &=-2 \\\\\n",
        "x_1-x_2+x_3 &=3\n",
        "\\end{aligned}\n",
        "$$"
      ],
      "metadata": {
        "id": "In8dPqh8Fh8Y"
      }
    },
    {
      "cell_type": "markdown",
      "source": [
        "\n",
        "Como primer paso debemos crear nuestra matriz $\\mathbf{A}$ y nuestros vector $\\mathbf{b}$ en base a los coheficientes de las ecuaciones:\n"
      ],
      "metadata": {
        "id": "j4U2QZlGFjyO"
      }
    },
    {
      "cell_type": "code",
      "execution_count": null,
      "metadata": {
        "id": "NkASV6miemmi"
      },
      "outputs": [],
      "source": [
        "#importamos la libreria numpy\n",
        "import numpy as np\n",
        "\n",
        "\"\"\"\n",
        "Vamos a crear una matriz uzando np.array \n",
        "ya que si no la usamos se nos  definiria como una lista y no una matriz\n",
        "lo cual puede causar conflictos mas adelante en el codigo\n",
        "\"\"\"\n",
        "A=np.array([[1,2,-1],\n",
        "   [-1,3,1],\n",
        "   [1,-1,1]])\n",
        "\n",
        "b=np.array([5,-2,3])"
      ]
    },
    {
      "cell_type": "markdown",
      "source": [
        "\n",
        "<p align=\"justify\">Ahora según lo deducido en la $(eq.2)$ simplemente debemos hallar la matriz inversa de $\\mathbf{A}$ y multiplicarla por $\\mathbf{b}$</p>"
      ],
      "metadata": {
        "id": "3XP1RjZQyg3w"
      }
    },
    {
      "cell_type": "code",
      "source": [
        "#Usando numpy halamos la iversa de A asi:\n",
        "invA=np.linalg.inv(A)\n",
        "#ahora multiplicamos invA por b para obtener x\n",
        "x=invA@b\n",
        "print(x)"
      ],
      "metadata": {
        "colab": {
          "base_uri": "https://localhost:8080/"
        },
        "id": "xOunnbuvzE3R",
        "outputId": "999c4384-c38f-46f0-9a7c-40c25cba008b"
      },
      "execution_count": null,
      "outputs": [
        {
          "output_type": "stream",
          "name": "stdout",
          "text": [
            "[ 3.7  0.6 -0.1]\n"
          ]
        }
      ]
    },
    {
      "cell_type": "markdown",
      "source": [
        "<p align=\"justify\">De esta manera hemos solucionado el sistema, ahora bien, nótese que hemos descrito el proceso de solución paso a paso con el fin de que este sea más comprensible, sin embargo esto no nos impide realizar esta misma solución de una forma mas eficiente compactándola en una sola línea</p>"
      ],
      "metadata": {
        "id": "z62fY8yhzprx"
      }
    },
    {
      "cell_type": "code",
      "source": [
        "x=(np.linalg.inv(A))@b\n",
        "print(x)"
      ],
      "metadata": {
        "colab": {
          "base_uri": "https://localhost:8080/"
        },
        "id": "21Kq7Ef90u2N",
        "outputId": "bde86667-6de5-48a4-d25a-9bb98d5ccc0d"
      },
      "execution_count": null,
      "outputs": [
        {
          "output_type": "stream",
          "name": "stdout",
          "text": [
            "[ 3.7  0.6 -0.1]\n"
          ]
        }
      ]
    },
    {
      "cell_type": "markdown",
      "source": [
        "### Solución usando numpy\n",
        "\n",
        "<p align=\"justify\">Si bien es fundamental el conocer el paso a paso que nos lleva a la solución de un sistema, a nivel de aplicación los sistemas lineales en la mayoría de ocasiones no son el centro de estudio de un problema, sino mas bien una herramienta para la solución del mismo, es decir, puede que para encontrar la solución a un problema de aplicación, sea necesaria la resolución de uno o varios sistemas de ecuaciones lineales para obtener incógnitas valiosas que sean parte de ese problema.\n",
        "\n",
        "<p align=\"justify\">Es por esto que surge la necesitad de saber solucionar estos sistemas de manera rápida y precisa , ya que en la mayoría de los casos son simplemente parte de un problema mas grande, por esto se muestra a continuación como obtener estas soluciones de manera ágil mediante el uso del solver de la librería Numpy:\n",
        "\n"
      ],
      "metadata": {
        "id": "5YedmeGf1dQr"
      }
    },
    {
      "cell_type": "code",
      "source": [
        "import numpy as np\n",
        "x=np.linalg.solve(A,b)\n",
        "print(x)"
      ],
      "metadata": {
        "colab": {
          "base_uri": "https://localhost:8080/"
        },
        "id": "i-kFfXw_4Mi1",
        "outputId": "b41606d5-873d-4b6b-bc8f-c68cf6c1ca18"
      },
      "execution_count": null,
      "outputs": [
        {
          "output_type": "stream",
          "name": "stdout",
          "text": [
            "[ 3.7  0.6 -0.1]\n"
          ]
        }
      ]
    },
    {
      "cell_type": "markdown",
      "source": [
        "# Referencias\n",
        "La teoría usada en este blog fue tomada de:\n",
        "\n",
        "*   Dorfman, K. D. & Daoutidis, P. (2017). *Numerical Methods with Chemical Engineering Applications*. Cambridge University Press.\n",
        "\n",
        "\n"
      ],
      "metadata": {
        "id": "mqNTWkTX55N2"
      }
    }
  ],
  "metadata": {
    "kernelspec": {
      "display_name": "visualization-curriculum-gF8wUgMm",
      "language": "python",
      "name": "visualization-curriculum-gf8wugmm"
    },
    "language_info": {
      "codemirror_mode": {
        "name": "ipython",
        "version": 3
      },
      "file_extension": ".py",
      "mimetype": "text/x-python",
      "name": "python",
      "nbconvert_exporter": "python",
      "pygments_lexer": "ipython3",
      "version": "3.6.7"
    },
    "varInspector": {
      "cols": {
        "lenName": 16,
        "lenType": 16,
        "lenVar": 40
      },
      "kernels_config": {
        "python": {
          "delete_cmd_postfix": "",
          "delete_cmd_prefix": "del ",
          "library": "var_list.py",
          "varRefreshCmd": "print(var_dic_list())"
        },
        "r": {
          "delete_cmd_postfix": ") ",
          "delete_cmd_prefix": "rm(",
          "library": "var_list.r",
          "varRefreshCmd": "cat(var_dic_list()) "
        }
      },
      "types_to_exclude": [
        "module",
        "function",
        "builtin_function_or_method",
        "instance",
        "_Feature"
      ],
      "window_display": false
    },
    "colab": {
      "provenance": [],
      "collapsed_sections": []
    }
  },
  "nbformat": 4,
  "nbformat_minor": 0
}